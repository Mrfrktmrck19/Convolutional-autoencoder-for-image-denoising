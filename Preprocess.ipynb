{
  "nbformat": 4,
  "nbformat_minor": 0,
  "metadata": {
    "colab": {
      "name": "Preprocess.ipynb",
      "provenance": [],
      "mount_file_id": "1rboVbM9gZqji4e9wcewKKHq0JpwMRm0H",
      "authorship_tag": "ABX9TyNy44SpG8oEWlujekYxhCx6",
      "include_colab_link": true
    },
    "kernelspec": {
      "name": "python3",
      "display_name": "Python 3"
    },
    "language_info": {
      "name": "python"
    }
  },
  "cells": [
    {
      "cell_type": "markdown",
      "metadata": {
        "id": "view-in-github",
        "colab_type": "text"
      },
      "source": [
        "<a href=\"https://colab.research.google.com/github/Mrfrktmrck19/Convolutional-autoencoder-for-image-denoising/blob/main/Preprocess.ipynb\" target=\"_parent\"><img src=\"https://colab.research.google.com/assets/colab-badge.svg\" alt=\"Open In Colab\"/></a>"
      ]
    },
    {
      "cell_type": "code",
      "execution_count": 4,
      "metadata": {
        "id": "BLyxtRN17L1Q"
      },
      "outputs": [],
      "source": [
        "import numpy as np\n",
        "import tensorflow as tf\n",
        "import matplotlib.pyplot as plt\n",
        "\n",
        "from tensorflow.keras import layers\n",
        "from tensorflow.keras.datasets import mnist\n",
        "from tensorflow.keras.models import Model\n"
      ]
    },
    {
      "cell_type": "code",
      "source": [
        "def preprocess(array):\n",
        "    \"\"\"\n",
        "    Normalizes the supplied array and reshapes it into the appropriate format.\n",
        "    \"\"\"\n",
        "\n",
        "    array = array.astype(\"float32\") / 255.0\n",
        "    array = np.reshape(array, (len(array), 28, 28, 1))\n",
        "    return array\n"
      ],
      "metadata": {
        "id": "VvKKxib_9MSP"
      },
      "execution_count": 6,
      "outputs": []
    },
    {
      "cell_type": "code",
      "source": [
        "def noise(array, cuda:bool):\n",
        "    \"\"\"\n",
        "    Adds random noise to each image in the supplied array.\n",
        "    \"\"\"\n",
        "\n",
        "    noise_factor = 0.4\n",
        "    noisy_array = array + noise_factor * np.random.normal(\n",
        "        loc=0.0, scale=1.0, size=array.shape\n",
        "    )\n",
        "    \n",
        "    if cuda:\n",
        "        return np.clip(noisy_array, 0.0, 1.0).cuda()\n",
        "    else:\n",
        "        return np.clip(noisy_array, 0.0, 1.0)"
      ],
      "metadata": {
        "id": "4kJ_4AGx9UdB"
      },
      "execution_count": 8,
      "outputs": []
    },
    {
      "cell_type": "code",
      "source": [
        "def display(array1, array2):\n",
        "    \"\"\"\n",
        "    Displays ten random images from each one of the supplied arrays.\n",
        "    \"\"\"\n",
        "\n",
        "    n = 10\n",
        "\n",
        "    indices = np.random.randint(len(array1), size=n)\n",
        "    images1 = array1[indices, :]\n",
        "    images2 = array2[indices, :]\n",
        "\n",
        "    plt.figure(figsize=(20, 4))\n",
        "    for i, (image1, image2) in enumerate(zip(images1, images2)):\n",
        "        ax = plt.subplot(2, n, i + 1)\n",
        "        plt.imshow(image1.reshape(28, 28))\n",
        "        plt.gray()\n",
        "        ax.get_xaxis().set_visible(False)\n",
        "        ax.get_yaxis().set_visible(False)\n",
        "\n",
        "        ax = plt.subplot(2, n, i + 1 + n)\n",
        "        plt.imshow(image2.reshape(28, 28))\n",
        "        plt.gray()\n",
        "        ax.get_xaxis().set_visible(False)\n",
        "        ax.get_yaxis().set_visible(False)\n",
        "\n",
        "    plt.show()\n",
        "# Setup-End"
      ],
      "metadata": {
        "id": "yehUTBxx9fo0"
      },
      "execution_count": 10,
      "outputs": []
    },
    {
      "cell_type": "code",
      "source": [
        "# Preparing the data - Start\n",
        "def preparingData(display_bool:bool, cuda:bool):\n",
        "    \"\"\"\n",
        "        Returns noisy train data and noisy test data\n",
        "        params: display->bool \n",
        "        params: cuda   ->bool\n",
        "    \"\"\"\n",
        "    # Since we only need images from the dataset to encode and decode, we\n",
        "    # won't use the labels.\n",
        "    (train_data, _), (test_data, _) = mnist.load_data()\n",
        "\n",
        "    # Normalize and reshape the data\n",
        "    train_data = preprocess(train_data)\n",
        "    test_data = preprocess(test_data)\n",
        "\n",
        "    # Create a copy of the data with added noise\n",
        "    noisy_train_data = noise(train_data, cuda)\n",
        "    noisy_test_data = noise(test_data, cuda)\n",
        "    \n",
        "    if display:\n",
        "        # Display the train data and a version of it with added noise\n",
        "        display(train_data, noisy_train_data)\n",
        "    \n",
        "    return train_data, test_data, noisy_train_data, noisy_test_data\n",
        "\n",
        "# Preparing the data - End\n"
      ],
      "metadata": {
        "id": "v-WgS5lu9jdq"
      },
      "execution_count": 11,
      "outputs": []
    },
    {
      "cell_type": "code",
      "source": [
        ""
      ],
      "metadata": {
        "id": "ofkNcdhy9p-y"
      },
      "execution_count": null,
      "outputs": []
    }
  ]
}